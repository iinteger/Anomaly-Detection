{
 "cells": [
  {
   "cell_type": "markdown",
   "source": [
    "# data load"
   ],
   "metadata": {
    "collapsed": false,
    "pycharm": {
     "name": "#%% md\n"
    }
   }
  },
  {
   "cell_type": "code",
   "execution_count": 7,
   "outputs": [],
   "source": [
    "import tarfile\n",
    "from scipy.io import arff\n",
    "import numpy as np\n",
    "import pandas as pd\n",
    "\n",
    "\n",
    "# 압축해제\n",
    "path = \"../data\"\n",
    "aloi_tar = tarfile.open(path+\"/PageBlocks.tar.gz\")\n",
    "aloi_tar.extractall(path+\"/PageBlocks\")\n",
    "aloi_tar.close()\n",
    "\n",
    "# data load\n",
    "PB = arff.loadarff(path + \"/PageBlocks/PageBlocks/PageBlocks_withoutdupl_norm_09.arff\")\n",
    "PB = pd.DataFrame(PB[0])"
   ],
   "metadata": {
    "collapsed": false,
    "pycharm": {
     "name": "#%%\n"
    }
   }
  },
  {
   "cell_type": "markdown",
   "source": [
    "* att1 ~ 10의 설명변수와 index를 나타내는 id, 이상치 여부인 outlier로 구성"
   ],
   "metadata": {
    "collapsed": false,
    "pycharm": {
     "name": "#%% md\n"
    }
   }
  },
  {
   "cell_type": "code",
   "execution_count": 9,
   "outputs": [
    {
     "data": {
      "text/plain": "       att1      att2      att3      att4      att5      att6      att7  \\\n0  0.004981  0.010870  0.000194  0.002594  0.367089  0.634328  0.000268   \n1  0.006227  0.010870  0.000243  0.002160  0.397679  0.873134  0.000525   \n2  0.006227  0.030797  0.000701  0.005574  0.247890  0.723881  0.000692   \n3  0.004981  0.010870  0.000194  0.002594  0.336498  0.726013  0.000672   \n4  0.006227  0.003623  0.000076  0.000918  0.472574  0.940299  0.000252   \n\n       att8      att9     att10   id outlier  \n0  0.000212  0.000347  0.001557  1.0   b'no'  \n1  0.000333  0.000650  0.001246  2.0   b'no'  \n2  0.000727  0.001583  0.001869  3.0   b'no'  \n3  0.000182  0.000412  0.000623  4.0   b'no'  \n4  0.000061  0.000217  0.000934  5.0   b'no'  ",
      "text/html": "<div>\n<style scoped>\n    .dataframe tbody tr th:only-of-type {\n        vertical-align: middle;\n    }\n\n    .dataframe tbody tr th {\n        vertical-align: top;\n    }\n\n    .dataframe thead th {\n        text-align: right;\n    }\n</style>\n<table border=\"1\" class=\"dataframe\">\n  <thead>\n    <tr style=\"text-align: right;\">\n      <th></th>\n      <th>att1</th>\n      <th>att2</th>\n      <th>att3</th>\n      <th>att4</th>\n      <th>att5</th>\n      <th>att6</th>\n      <th>att7</th>\n      <th>att8</th>\n      <th>att9</th>\n      <th>att10</th>\n      <th>id</th>\n      <th>outlier</th>\n    </tr>\n  </thead>\n  <tbody>\n    <tr>\n      <th>0</th>\n      <td>0.004981</td>\n      <td>0.010870</td>\n      <td>0.000194</td>\n      <td>0.002594</td>\n      <td>0.367089</td>\n      <td>0.634328</td>\n      <td>0.000268</td>\n      <td>0.000212</td>\n      <td>0.000347</td>\n      <td>0.001557</td>\n      <td>1.0</td>\n      <td>b'no'</td>\n    </tr>\n    <tr>\n      <th>1</th>\n      <td>0.006227</td>\n      <td>0.010870</td>\n      <td>0.000243</td>\n      <td>0.002160</td>\n      <td>0.397679</td>\n      <td>0.873134</td>\n      <td>0.000525</td>\n      <td>0.000333</td>\n      <td>0.000650</td>\n      <td>0.001246</td>\n      <td>2.0</td>\n      <td>b'no'</td>\n    </tr>\n    <tr>\n      <th>2</th>\n      <td>0.006227</td>\n      <td>0.030797</td>\n      <td>0.000701</td>\n      <td>0.005574</td>\n      <td>0.247890</td>\n      <td>0.723881</td>\n      <td>0.000692</td>\n      <td>0.000727</td>\n      <td>0.001583</td>\n      <td>0.001869</td>\n      <td>3.0</td>\n      <td>b'no'</td>\n    </tr>\n    <tr>\n      <th>3</th>\n      <td>0.004981</td>\n      <td>0.010870</td>\n      <td>0.000194</td>\n      <td>0.002594</td>\n      <td>0.336498</td>\n      <td>0.726013</td>\n      <td>0.000672</td>\n      <td>0.000182</td>\n      <td>0.000412</td>\n      <td>0.000623</td>\n      <td>4.0</td>\n      <td>b'no'</td>\n    </tr>\n    <tr>\n      <th>4</th>\n      <td>0.006227</td>\n      <td>0.003623</td>\n      <td>0.000076</td>\n      <td>0.000918</td>\n      <td>0.472574</td>\n      <td>0.940299</td>\n      <td>0.000252</td>\n      <td>0.000061</td>\n      <td>0.000217</td>\n      <td>0.000934</td>\n      <td>5.0</td>\n      <td>b'no'</td>\n    </tr>\n  </tbody>\n</table>\n</div>"
     },
     "execution_count": 9,
     "metadata": {},
     "output_type": "execute_result"
    }
   ],
   "source": [
    "PB.head()"
   ],
   "metadata": {
    "collapsed": false,
    "pycharm": {
     "name": "#%%\n"
    }
   }
  },
  {
   "cell_type": "code",
   "execution_count": 10,
   "outputs": [],
   "source": [
    "PB.index =PB['id'].astype(int)\n",
    "set_a = PB['outlier'] == b'yes'  # outlier 변수가 b'yes'인 값\n",
    "set_b = PB['outlier'] == b'no'\n",
    "PB.loc[set_a, 'target'] = 1\n",
    "PB.loc[set_b, 'target'] = 0\n",
    "PB.loc[:, 'target'] = PB['target'].astype(int)\n",
    "PB = PB.drop(['outlier', 'id'], axis=1)"
   ],
   "metadata": {
    "collapsed": false,
    "pycharm": {
     "name": "#%%\n"
    }
   }
  },
  {
   "cell_type": "code",
   "execution_count": 11,
   "outputs": [
    {
     "data": {
      "text/plain": "        att1      att2      att3      att4      att5      att6      att7  \\\nid                                                                         \n1   0.004981  0.010870  0.000194  0.002594  0.367089  0.634328  0.000268   \n2   0.006227  0.010870  0.000243  0.002160  0.397679  0.873134  0.000525   \n3   0.006227  0.030797  0.000701  0.005574  0.247890  0.723881  0.000692   \n4   0.004981  0.010870  0.000194  0.002594  0.336498  0.726013  0.000672   \n5   0.006227  0.003623  0.000076  0.000918  0.472574  0.940299  0.000252   \n\n        att8      att9     att10  target  \nid                                        \n1   0.000212  0.000347  0.001557       0  \n2   0.000333  0.000650  0.001246       0  \n3   0.000727  0.001583  0.001869       0  \n4   0.000182  0.000412  0.000623       0  \n5   0.000061  0.000217  0.000934       0  ",
      "text/html": "<div>\n<style scoped>\n    .dataframe tbody tr th:only-of-type {\n        vertical-align: middle;\n    }\n\n    .dataframe tbody tr th {\n        vertical-align: top;\n    }\n\n    .dataframe thead th {\n        text-align: right;\n    }\n</style>\n<table border=\"1\" class=\"dataframe\">\n  <thead>\n    <tr style=\"text-align: right;\">\n      <th></th>\n      <th>att1</th>\n      <th>att2</th>\n      <th>att3</th>\n      <th>att4</th>\n      <th>att5</th>\n      <th>att6</th>\n      <th>att7</th>\n      <th>att8</th>\n      <th>att9</th>\n      <th>att10</th>\n      <th>target</th>\n    </tr>\n    <tr>\n      <th>id</th>\n      <th></th>\n      <th></th>\n      <th></th>\n      <th></th>\n      <th></th>\n      <th></th>\n      <th></th>\n      <th></th>\n      <th></th>\n      <th></th>\n      <th></th>\n    </tr>\n  </thead>\n  <tbody>\n    <tr>\n      <th>1</th>\n      <td>0.004981</td>\n      <td>0.010870</td>\n      <td>0.000194</td>\n      <td>0.002594</td>\n      <td>0.367089</td>\n      <td>0.634328</td>\n      <td>0.000268</td>\n      <td>0.000212</td>\n      <td>0.000347</td>\n      <td>0.001557</td>\n      <td>0</td>\n    </tr>\n    <tr>\n      <th>2</th>\n      <td>0.006227</td>\n      <td>0.010870</td>\n      <td>0.000243</td>\n      <td>0.002160</td>\n      <td>0.397679</td>\n      <td>0.873134</td>\n      <td>0.000525</td>\n      <td>0.000333</td>\n      <td>0.000650</td>\n      <td>0.001246</td>\n      <td>0</td>\n    </tr>\n    <tr>\n      <th>3</th>\n      <td>0.006227</td>\n      <td>0.030797</td>\n      <td>0.000701</td>\n      <td>0.005574</td>\n      <td>0.247890</td>\n      <td>0.723881</td>\n      <td>0.000692</td>\n      <td>0.000727</td>\n      <td>0.001583</td>\n      <td>0.001869</td>\n      <td>0</td>\n    </tr>\n    <tr>\n      <th>4</th>\n      <td>0.004981</td>\n      <td>0.010870</td>\n      <td>0.000194</td>\n      <td>0.002594</td>\n      <td>0.336498</td>\n      <td>0.726013</td>\n      <td>0.000672</td>\n      <td>0.000182</td>\n      <td>0.000412</td>\n      <td>0.000623</td>\n      <td>0</td>\n    </tr>\n    <tr>\n      <th>5</th>\n      <td>0.006227</td>\n      <td>0.003623</td>\n      <td>0.000076</td>\n      <td>0.000918</td>\n      <td>0.472574</td>\n      <td>0.940299</td>\n      <td>0.000252</td>\n      <td>0.000061</td>\n      <td>0.000217</td>\n      <td>0.000934</td>\n      <td>0</td>\n    </tr>\n  </tbody>\n</table>\n</div>"
     },
     "execution_count": 11,
     "metadata": {},
     "output_type": "execute_result"
    }
   ],
   "source": [
    "PB.head()"
   ],
   "metadata": {
    "collapsed": false,
    "pycharm": {
     "name": "#%%\n"
    }
   }
  },
  {
   "cell_type": "markdown",
   "source": [
    "# preprocessing"
   ],
   "metadata": {
    "collapsed": false,
    "pycharm": {
     "name": "#%% md\n"
    }
   }
  },
  {
   "cell_type": "code",
   "execution_count": 23,
   "outputs": [],
   "source": [
    "import sklearn.preprocessing as pp\n",
    "from sklearn.model_selection import train_test_split\n",
    "\n",
    "raw_X = PB.drop(\"target\", axis=1)\n",
    "raw_Y = PB[\"target\"]\n",
    "\n",
    "col_ = raw_X.columns\n",
    "stand_X_scaler = pp.StandardScaler()\n",
    "stand_X = stand_X_scaler.fit_transform(raw_X)\n",
    "stand_X = pd.DataFrame(data=stand_X, index=raw_X.index, columns=raw_X.columns)\n",
    "scaling_param = pd.DataFrame(data=[stand_X_scaler.mean_, stand_X_scaler.scale_], index=['mean', 'std'], columns=col_)  # 표준화에 사용된 평균, 표준편차\n",
    "\n",
    "X_train, X_test, Y_train, Y_test = train_test_split(stand_X, raw_Y, test_size=0.33, random_state=314, shuffle=True, stratify=raw_Y)"
   ],
   "metadata": {
    "collapsed": false,
    "pycharm": {
     "name": "#%%\n"
    }
   }
  },
  {
   "cell_type": "code",
   "execution_count": 25,
   "outputs": [],
   "source": [
    "# visualizing\n",
    "\n",
    "import matplotlib.pyplot as plt\n",
    "import seaborn as sns\n",
    "\n",
    "def mean_for_each_target(df_X, df_Y, plot_=False, return_=False):\n",
    "    df_mean = df_X.mean().reset_index()  # 전체 x의 평균\n",
    "    df_mean.columns = ['field', 'mean']\n",
    "    df_mean['target'] = 'total'\n",
    "    mean_ = df_mean['mean']\n",
    "\n",
    "    # 타겟별 x값의 평균\n",
    "    for each in df_Y.unique():\n",
    "        set_ = df_Y == each\n",
    "        set_df_X = df_X[set_]\n",
    "        set_df_X = set_df_X.mean().reset_index()\n",
    "        set_df_X.columns = ['field', 'mean']\n",
    "        set_df_X['target'] = each\n",
    "        df_mean = pd.concat((df_mean, set_df_X), axis=0).reset_index(drop=True)\n",
    "\n",
    "    df_mean_t = pd.DataFrame({})\n",
    "    for each in df_mean['target'].unique():\n",
    "        set_ = df_mean['target'] == each\n",
    "        v_set = df_mean[set_]['mean'].reset_index(drop=True)\n",
    "        v_set.name = each\n",
    "        df_mean_t = pd.concat((df_mean_t, v_set), axis=1)\n",
    "\n",
    "    df_mean_t = df_mean_t.T\n",
    "    df_mean_t.columns = df_X.columns\n",
    "    df_mean_t\n",
    "\n",
    "    if plot_:\n",
    "        sns.catplot(x='field', y='mean', hue='target', kind='bar', data=df_mean, height=5, aspect=2)\n",
    "        plt.title('mean for each target')\n",
    "        plt.figure(figsize=(20, 10))\n",
    "        plt.show()\n",
    "\n",
    "    if return_:\n",
    "        return df_mean, df_mean_t"
   ],
   "metadata": {
    "collapsed": false,
    "pycharm": {
     "name": "#%%\n"
    }
   }
  },
  {
   "cell_type": "markdown",
   "source": [
    "* y값에 따른 x값의 분포 시각화 결과, 이상치일때와 그렇지 않을때의 x값의 분포가 매우 다른것을 확인할 수 있음"
   ],
   "metadata": {
    "collapsed": false,
    "pycharm": {
     "name": "#%% md\n"
    }
   }
  },
  {
   "cell_type": "code",
   "execution_count": 26,
   "outputs": [
    {
     "data": {
      "text/plain": "<Figure size 778.75x360 with 1 Axes>",
      "image/png": "[encoded data removed]"
     },
     "metadata": {
      "needs_background": "light"
     },
     "output_type": "display_data"
    },
    {
     "data": {
      "text/plain": "<Figure size 1440x720 with 0 Axes>"
     },
     "metadata": {},
     "output_type": "display_data"
    }
   ],
   "source": [
    "mean_for_each_target(X_train, Y_train, plot_=True)"
   ],
   "metadata": {
    "collapsed": false,
    "pycharm": {
     "name": "#%%\n"
    }
   }
  },
  {
   "cell_type": "code",
   "execution_count": 60,
   "outputs": [],
   "source": [
    "from sklearn.decomposition import PCA\n",
    "\n",
    "def PCA_inverse(df_X, n_components='total', svd_solver='full', whiten=False, random_state=314):\n",
    "    if n_components == 'total':\n",
    "        n_components = len(df_X.columns)\n",
    "    else:\n",
    "        n_components = n_components\n",
    "\n",
    "    pca = PCA(n_components=n_components, random_state=random_state, svd_solver=svd_solver)\n",
    "\n",
    "    df_X_PCA = pca.fit_transform(df_X)\n",
    "    print(df_X_PCA.shape)\n",
    "    print(df_X.columns)\n",
    "    df_X_PCA = pd.DataFrame(data=df_X_PCA, index=df_X.index)\n",
    "\n",
    "    df_X_PCA_inv = pca.inverse_transform(df_X_PCA)\n",
    "    df_X_PCA_inv = pd.DataFrame(data=df_X_PCA_inv, index=df_X.index, columns=df_X.columns)\n",
    "\n",
    "    return pca, df_X_PCA, df_X_PCA_inv"
   ],
   "metadata": {
    "collapsed": false,
    "pycharm": {
     "name": "#%%\n"
    }
   }
  },
  {
   "cell_type": "code",
   "execution_count": 40,
   "outputs": [
    {
     "data": {
      "text/plain": "<Figure size 432x288 with 1 Axes>",
      "image/png": "[encoded data removed]"
     },
     "metadata": {
      "needs_background": "light"
     },
     "output_type": "display_data"
    }
   ],
   "source": [
    "pca, df_X_PCA, df_X_PCA_inv = PCA_inverse(X_train)\n",
    "\n",
    "def pca_pair(pca, columns, components=(1, 2)):\n",
    "    c1 = components[0] - 1\n",
    "    c2 = components[1] - 1\n",
    "    plt.scatter(pca.components_[c1], pca.components_[c2])\n",
    "    for i, txt in enumerate(X_train.columns):\n",
    "        plt.annotate(txt, (pca.components_[c1][i]+0.005, pca.components_[c2][i]+0.001))\n",
    "\n",
    "    plt.xlabel('principal component'+str(c1+1))\n",
    "    plt.ylabel('principal component'+str(c2+1))\n",
    "    plt.show()\n",
    "\n",
    "pca_pair(pca, X_train.columns, components=(9, 10))"
   ],
   "metadata": {
    "collapsed": false,
    "pycharm": {
     "name": "#%%\n"
    }
   }
  },
  {
   "cell_type": "markdown",
   "source": [
    "* 마지막 두 주성분의 분산 방향 시각화 결과, 십자 형태로 상관성이 떨어지는 모양이 나타남. 이는 이상치의 종류가 두가지임을 시사함"
   ],
   "metadata": {
    "collapsed": false,
    "pycharm": {
     "name": "#%% md\n"
    }
   }
  },
  {
   "cell_type": "code",
   "source": [
    "def pca_explained_variance(pca):\n",
    "    plt.bar(range(1, len(pca.explained_variance_ratio_)+1),\n",
    "            pca.explained_variance_ratio_,\n",
    "            alpha=0.5,\n",
    "            align='center',\n",
    "            label=\"explained variance ratio\")\n",
    "    plt.step(range(1, len(pca.explained_variance_ratio_)+1),\n",
    "             pca.explained_variance_ratio_.cumsum(),\n",
    "             where='mid',\n",
    "             label='explained variance ratio cumsum')\n",
    "\n",
    "    plt.ylabel('explain variance ratio')\n",
    "    plt.xlabel(\"n components\")\n",
    "    plt.legend(loc='best')\n",
    "    plt.tight_layout()\n",
    "    plt.show()\n",
    "\n",
    "pca_explained_variance(pca)"
   ],
   "metadata": {
    "collapsed": false,
    "pycharm": {
     "name": "#%%\n"
    }
   },
   "execution_count": 39,
   "outputs": [
    {
     "data": {
      "text/plain": "<Figure size 432x288 with 1 Axes>",
      "image/png": "[encoded data removed]"
     },
     "metadata": {
      "needs_background": "light"
     },
     "output_type": "display_data"
    }
   ]
  },
  {
   "cell_type": "markdown",
   "source": [
    "* 10개 주성분의 총 합은 1이므로 1개 이상의 정보를 가지는 주성분은 0.1보다 큼\n",
    "* 다섯번째부터 0.1보다 작아지고, 4번째까지의 총합이 전체 데이터의 80% 이상을 설명하므로 4번째 주성분까지 반영하는것이 좋음"
   ],
   "metadata": {
    "collapsed": false,
    "pycharm": {
     "name": "#%% md\n"
    }
   }
  },
  {
   "cell_type": "code",
   "execution_count": 50,
   "outputs": [
    {
     "name": "stdout",
     "output_type": "stream",
     "text": [
      "최초로 분산 비율이 10% 이하인 주성분의 위치 : 5\n"
     ]
    }
   ],
   "source": [
    "evr_cumsum = pca.explained_variance_ratio_.cumsum()\n",
    "evr_cols = np.min(np.argmin(abs(evr_cumsum - (1 - 0.1))))+1\n",
    "print(\"최초로 분산 비율이 10% 이하인 주성분의 위치 :\", evr_cols)"
   ],
   "metadata": {
    "collapsed": false,
    "pycharm": {
     "name": "#%%\n"
    }
   }
  },
  {
   "cell_type": "markdown",
   "source": [
    "#재구축 오차"
   ],
   "metadata": {
    "collapsed": false,
    "pycharm": {
     "name": "#%% md\n"
    }
   }
  },
  {
   "cell_type": "code",
   "execution_count": 61,
   "outputs": [
    {
     "name": "stdout",
     "output_type": "stream",
     "text": [
      "(3613, 5)\n",
      "Index(['att1', 'att2', 'att3', 'att4', 'att5', 'att6', 'att7', 'att8', 'att9',\n",
      "       'att10'],\n",
      "      dtype='object')\n"
     ]
    }
   ],
   "source": [
    "pca, X_train_PCA, X_train_PCA_inv = PCA_inverse(X_train, n_components=evr_cols)\n"
   ],
   "metadata": {
    "collapsed": false,
    "pycharm": {
     "name": "#%%\n"
    }
   }
  },
  {
   "cell_type": "code",
   "execution_count": 65,
   "outputs": [
    {
     "data": {
      "text/plain": "        att1  att2  att3  att4  att5  att6  att7  att8  att9  att10\n평균 변화량   0.0   0.0   0.0  -0.0   0.0  -0.0   0.0  -0.0   0.0    0.0",
      "text/html": "<div>\n<style scoped>\n    .dataframe tbody tr th:only-of-type {\n        vertical-align: middle;\n    }\n\n    .dataframe tbody tr th {\n        vertical-align: top;\n    }\n\n    .dataframe thead th {\n        text-align: right;\n    }\n</style>\n<table border=\"1\" class=\"dataframe\">\n  <thead>\n    <tr style=\"text-align: right;\">\n      <th></th>\n      <th>att1</th>\n      <th>att2</th>\n      <th>att3</th>\n      <th>att4</th>\n      <th>att5</th>\n      <th>att6</th>\n      <th>att7</th>\n      <th>att8</th>\n      <th>att9</th>\n      <th>att10</th>\n    </tr>\n  </thead>\n  <tbody>\n    <tr>\n      <th>평균 변화량</th>\n      <td>0.0</td>\n      <td>0.0</td>\n      <td>0.0</td>\n      <td>-0.0</td>\n      <td>0.0</td>\n      <td>-0.0</td>\n      <td>0.0</td>\n      <td>-0.0</td>\n      <td>0.0</td>\n      <td>0.0</td>\n    </tr>\n  </tbody>\n</table>\n</div>"
     },
     "execution_count": 65,
     "metadata": {},
     "output_type": "execute_result"
    }
   ],
   "source": [
    "pd.DataFrame((X_train_PCA_inv.mean() - X_train.mean()).round(2), columns=['평균 변화량']).T"
   ],
   "metadata": {
    "collapsed": false,
    "pycharm": {
     "name": "#%%\n"
    }
   }
  },
  {
   "cell_type": "code",
   "execution_count": 66,
   "outputs": [
    {
     "data": {
      "text/plain": "           att1  att2  att3  att4  att5  att6  att7  att8  att9  att10\n표준 편차 변화량 -0.05 -0.04  -0.1 -0.04 -0.08  -0.1  -0.0 -0.07 -0.03  -0.07",
      "text/html": "<div>\n<style scoped>\n    .dataframe tbody tr th:only-of-type {\n        vertical-align: middle;\n    }\n\n    .dataframe tbody tr th {\n        vertical-align: top;\n    }\n\n    .dataframe thead th {\n        text-align: right;\n    }\n</style>\n<table border=\"1\" class=\"dataframe\">\n  <thead>\n    <tr style=\"text-align: right;\">\n      <th></th>\n      <th>att1</th>\n      <th>att2</th>\n      <th>att3</th>\n      <th>att4</th>\n      <th>att5</th>\n      <th>att6</th>\n      <th>att7</th>\n      <th>att8</th>\n      <th>att9</th>\n      <th>att10</th>\n    </tr>\n  </thead>\n  <tbody>\n    <tr>\n      <th>표준 편차 변화량</th>\n      <td>-0.05</td>\n      <td>-0.04</td>\n      <td>-0.1</td>\n      <td>-0.04</td>\n      <td>-0.08</td>\n      <td>-0.1</td>\n      <td>-0.0</td>\n      <td>-0.07</td>\n      <td>-0.03</td>\n      <td>-0.07</td>\n    </tr>\n  </tbody>\n</table>\n</div>"
     },
     "execution_count": 66,
     "metadata": {},
     "output_type": "execute_result"
    }
   ],
   "source": [
    "pd.DataFrame((X_train_PCA_inv.std() - X_train.std()).round(2), columns=['표준 편차 변화량']).T"
   ],
   "metadata": {
    "collapsed": false,
    "pycharm": {
     "name": "#%%\n"
    }
   }
  },
  {
   "cell_type": "markdown",
   "source": [
    "* 5개의 주성분으로 복원한 결과, 평균값의 차이는 없고 표준편차가 아주 살짝 감소한것을 확인할 수 있음"
   ],
   "metadata": {
    "collapsed": false,
    "pycharm": {
     "name": "#%% md\n"
    }
   }
  },
  {
   "cell_type": "code",
   "execution_count": 67,
   "outputs": [
    {
     "data": {
      "text/plain": "count    3613.000000\nmean        5.000000\nstd        65.361312\nmin         0.015540\n25%         0.470877\n50%         0.841527\n75%         1.996187\nmax      3498.367622\ndtype: float64"
     },
     "execution_count": 67,
     "metadata": {},
     "output_type": "execute_result"
    }
   ],
   "source": [
    "from sklearn.covariance import EmpiricalCovariance\n",
    "\n",
    "# 공분산행렬 계산\n",
    "emp_cov = EmpiricalCovariance().fit(X_train_PCA_inv)\n",
    "\n",
    "# 마할라노비스 거리\n",
    "outlier_score = emp_cov.mahalanobis(X_train)\n",
    "outlier_score = pd.Series(outlier_score, index=X_train_PCA_inv.index)\n",
    "\n",
    "outlier_score.describe()"
   ],
   "metadata": {
    "collapsed": false,
    "pycharm": {
     "name": "#%%\n"
    }
   }
  },
  {
   "cell_type": "markdown",
   "source": [
    "* 평균이 5, 표준편차는 65로 큰 값이 나타남\n",
    "* 최대값이 3498인데 75%에 해당하는 값도 1.9에 불과함\n",
    "* 따라서 이상치는 정상 데이터에 비해 상당히 큰 값을 가진다고 볼 수 있으며, 이를 재구축 오차라고 부름"
   ],
   "metadata": {
    "collapsed": false,
    "pycharm": {
     "name": "#%% md\n"
    }
   }
  },
  {
   "cell_type": "code",
   "execution_count": 68,
   "outputs": [
    {
     "data": {
      "text/plain": "      actual  predict      score\nid                              \n4085       0        0   0.448178\n2253       0        0   1.913160\n4895       1        1  41.051048\n1792       0        0   3.211341\n2948       0        0   1.718232",
      "text/html": "<div>\n<style scoped>\n    .dataframe tbody tr th:only-of-type {\n        vertical-align: middle;\n    }\n\n    .dataframe tbody tr th {\n        vertical-align: top;\n    }\n\n    .dataframe thead th {\n        text-align: right;\n    }\n</style>\n<table border=\"1\" class=\"dataframe\">\n  <thead>\n    <tr style=\"text-align: right;\">\n      <th></th>\n      <th>actual</th>\n      <th>predict</th>\n      <th>score</th>\n    </tr>\n    <tr>\n      <th>id</th>\n      <th></th>\n      <th></th>\n      <th></th>\n    </tr>\n  </thead>\n  <tbody>\n    <tr>\n      <th>4085</th>\n      <td>0</td>\n      <td>0</td>\n      <td>0.448178</td>\n    </tr>\n    <tr>\n      <th>2253</th>\n      <td>0</td>\n      <td>0</td>\n      <td>1.913160</td>\n    </tr>\n    <tr>\n      <th>4895</th>\n      <td>1</td>\n      <td>1</td>\n      <td>41.051048</td>\n    </tr>\n    <tr>\n      <th>1792</th>\n      <td>0</td>\n      <td>0</td>\n      <td>3.211341</td>\n    </tr>\n    <tr>\n      <th>2948</th>\n      <td>0</td>\n      <td>0</td>\n      <td>1.718232</td>\n    </tr>\n  </tbody>\n</table>\n</div>"
     },
     "execution_count": 68,
     "metadata": {},
     "output_type": "execute_result"
    }
   ],
   "source": [
    "def predict_df(y_actual, y_score, threshold=50):\n",
    "    binary_thread = np.percentile(y_score, threshold)\n",
    "\n",
    "    df_preds = pd.concat((y_actual, y_score.apply(lambda x: 1 if x >= binary_thread else 0), y_score), axis=1)\n",
    "    df_preds.columns = ['actual', 'predict', 'score']\n",
    "    return df_preds\n",
    "\n",
    "df_preds = predict_df(Y_train, outlier_score, 90)\n",
    "df_preds.head()"
   ],
   "metadata": {
    "collapsed": false,
    "pycharm": {
     "name": "#%%\n"
    }
   }
  },
  {
   "cell_type": "code",
   "execution_count": 73,
   "outputs": [
    {
     "data": {
      "text/plain": "<Figure size 720x720 with 1 Axes>",
      "image/png": "[encoded data removed]"
     },
     "metadata": {
      "needs_background": "light"
     },
     "output_type": "display_data"
    }
   ],
   "source": [
    "from sklearn.metrics import precision_recall_curve, average_precision_score\n",
    "\n",
    "def plt_precision_recall_curve(y_actual, y_score):\n",
    "    precision, recall, threshold = precision_recall_curve(y_actual, y_score)\n",
    "    average_precision = average_precision_score(y_actual, y_score)\n",
    "    plt.title(\"Precision-Recall Curve(AP={0:0.2f})\".format(average_precision))\n",
    "    plt.xlabel(\"Recall\")\n",
    "    plt.ylabel(\"Precision\")\n",
    "    plt.xlim([0.0, 1.0])\n",
    "    plt.ylim([0.0, 1.01])\n",
    "    plt.step(recall, precision, color=\"k\", lw=1)\n",
    "    plt.fill_between(recall, precision, color=\"k\", step=\"post\", alpha=0.3)\n",
    "    plt.show()\n",
    "\n",
    "plt.figure(figsize=(10, 10))\n",
    "plt_precision_recall_curve(df_preds['actual'], df_preds['score'])"
   ],
   "metadata": {
    "collapsed": false,
    "pycharm": {
     "name": "#%%\n"
    }
   }
  },
  {
   "cell_type": "markdown",
   "source": [],
   "metadata": {
    "collapsed": false,
    "pycharm": {
     "name": "#%% md\n"
    }
   }
  }
 ],
 "metadata": {
  "kernelspec": {
   "display_name": "Python 3",
   "language": "python",
   "name": "python3"
  },
  "language_info": {
   "codemirror_mode": {
    "name": "ipython",
    "version": 2
   },
   "file_extension": ".py",
   "mimetype": "text/x-python",
   "name": "python",
   "nbconvert_exporter": "python",
   "pygments_lexer": "ipython2",
   "version": "2.7.6"
  }
 },
 "nbformat": 4,
 "nbformat_minor": 0
}