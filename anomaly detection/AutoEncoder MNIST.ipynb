{
 "cells": [
  {
   "cell_type": "markdown",
   "source": [
    "# MNIST AutoEncoder"
   ],
   "metadata": {
    "collapsed": false,
    "pycharm": {
     "name": "#%% md\n"
    }
   }
  },
  {
   "cell_type": "code",
   "execution_count": 7,
   "outputs": [],
   "source": [
    "import tensorflow as tf\n",
    "import numpy as np\n",
    "from tensorflow.keras.layers import Dense, Input\n",
    "from tensorflow.keras.models import Model"
   ],
   "metadata": {
    "collapsed": false,
    "pycharm": {
     "name": "#%%\n"
    }
   }
  },
  {
   "cell_type": "code",
   "execution_count": 5,
   "outputs": [
    {
     "name": "stdout",
     "output_type": "stream",
     "text": [
      "(60000, 784)\n",
      "(10000, 784)\n"
     ]
    }
   ],
   "source": [
    "(X_train, y_train), (X_test, y_test) =tf.keras.datasets.mnist.load_data()\n",
    "\n",
    "X_train = X_train.astype(np.float32)/255.\n",
    "X_test = X_test.astype(np.float32)/255.\n",
    "\n",
    "X_train_flatten = X_train.reshape((X_train.shape[0], -1))\n",
    "X_test_flatten = X_test.reshape((X_test.shape[0], -1))\n",
    "\n",
    "print(X_train_flatten.shape)\n",
    "print(X_test_flatten.shape)"
   ],
   "metadata": {
    "collapsed": false,
    "pycharm": {
     "name": "#%%\n"
    }
   }
  },
  {
   "cell_type": "code",
   "execution_count": 13,
   "outputs": [],
   "source": [
    "input = Input(shape=(784, ))\n",
    "encoded_1 = Dense(512, activation=\"relu\")(input)\n",
    "encoded_2 = Dense(128, activation=\"relu\")(encoded_1)\n",
    "encoded_3 = Dense(32, activation=\"relu\")(encoded_2)\n",
    "decoded_1 = Dense(128, activation=\"relu\")(encoded_3)\n",
    "decoded_2 = Dense(512, activation=\"relu\")(decoded_1)\n",
    "output = Dense(784, activation=\"sigmoid\")(decoded_2)\n",
    "\n",
    "model = Model(input, output)\n",
    "intermediate_1 = Model(input, encoded_1)\n",
    "intermediate_2 = Model(input, encoded_2)\n",
    "model.compile(optimizer=\"adam\", loss=\"MSE\")"
   ],
   "metadata": {
    "collapsed": false,
    "pycharm": {
     "name": "#%%\n"
    }
   }
  },
  {
   "cell_type": "code",
   "execution_count": 14,
   "outputs": [
    {
     "name": "stdout",
     "output_type": "stream",
     "text": [
      "Epoch 1/20\n",
      "209/209 [==============================] - 3s 13ms/step - loss: 0.0567 - val_loss: 0.0313\n",
      "Epoch 2/20\n",
      "209/209 [==============================] - 3s 13ms/step - loss: 0.0245 - val_loss: 0.0199\n",
      "Epoch 3/20\n",
      "209/209 [==============================] - 5s 26ms/step - loss: 0.0179 - val_loss: 0.0167\n",
      "Epoch 4/20\n",
      "209/209 [==============================] - 6s 27ms/step - loss: 0.0152 - val_loss: 0.0159\n",
      "Epoch 5/20\n",
      "209/209 [==============================] - 6s 28ms/step - loss: 0.0136 - val_loss: 0.0137\n",
      "Epoch 6/20\n",
      "209/209 [==============================] - 6s 28ms/step - loss: 0.0126 - val_loss: 0.0128\n",
      "Epoch 7/20\n",
      "209/209 [==============================] - 6s 28ms/step - loss: 0.0118 - val_loss: 0.0126\n",
      "Epoch 8/20\n",
      "209/209 [==============================] - 6s 27ms/step - loss: 0.0110 - val_loss: 0.0119\n",
      "Epoch 9/20\n",
      "209/209 [==============================] - 6s 27ms/step - loss: 0.0105 - val_loss: 0.0113\n",
      "Epoch 10/20\n",
      "209/209 [==============================] - 6s 29ms/step - loss: 0.0100 - val_loss: 0.0108\n",
      "Epoch 11/20\n",
      "209/209 [==============================] - 6s 27ms/step - loss: 0.0096 - val_loss: 0.0102\n",
      "Epoch 12/20\n",
      "209/209 [==============================] - 6s 27ms/step - loss: 0.0093 - val_loss: 0.0096\n",
      "Epoch 13/20\n",
      "209/209 [==============================] - 6s 27ms/step - loss: 0.0091 - val_loss: 0.0095\n",
      "Epoch 14/20\n",
      "209/209 [==============================] - 6s 27ms/step - loss: 0.0088 - val_loss: 0.0094\n",
      "Epoch 15/20\n",
      "209/209 [==============================] - 6s 28ms/step - loss: 0.0086 - val_loss: 0.0089\n",
      "Epoch 16/20\n",
      "209/209 [==============================] - 6s 27ms/step - loss: 0.0084 - val_loss: 0.0091\n",
      "Epoch 17/20\n",
      "209/209 [==============================] - 6s 27ms/step - loss: 0.0082 - val_loss: 0.0086\n",
      "Epoch 18/20\n",
      "209/209 [==============================] - 6s 27ms/step - loss: 0.0080 - val_loss: 0.0093\n",
      "Epoch 19/20\n",
      "209/209 [==============================] - 6s 27ms/step - loss: 0.0079 - val_loss: 0.0085\n",
      "Epoch 20/20\n",
      "209/209 [==============================] - 6s 27ms/step - loss: 0.0077 - val_loss: 0.0088\n"
     ]
    },
    {
     "data": {
      "text/plain": "<keras.callbacks.History at 0x119989ab6c8>"
     },
     "execution_count": 14,
     "metadata": {},
     "output_type": "execute_result"
    }
   ],
   "source": [
    "# novelty class를 1로 지정\n",
    "X_train_except_1 = X_train_flatten[y_train != 1]\n",
    "X_test_except_1 = X_test_flatten[y_test != 1]\n",
    "\n",
    "model.fit(X_train_except_1, X_train_except_1, batch_size=256, epochs=20, validation_data=(X_test_except_1, X_test_except_1))"
   ],
   "metadata": {
    "collapsed": false,
    "pycharm": {
     "name": "#%%\n"
    }
   }
  },
  {
   "cell_type": "code",
   "execution_count": 15,
   "outputs": [],
   "source": [
    "decoded_img = model.predict(X_test_flatten)"
   ],
   "metadata": {
    "collapsed": false,
    "pycharm": {
     "name": "#%%\n"
    }
   }
  },
  {
   "cell_type": "code",
   "execution_count": 16,
   "outputs": [
    {
     "data": {
      "text/plain": "<Figure size 1440x288 with 20 Axes>",
      "image/png": "[encoded data removed]"
     },
     "metadata": {
      "needs_background": "light"
     },
     "output_type": "display_data"
    }
   ],
   "source": [
    "import matplotlib.pyplot as plt\n",
    "n = 10 # 이미지 갯수\n",
    "plt.figure(figsize=(20, 4))\n",
    "for i in range(1, n+1):\n",
    "    # 원본 데이터\n",
    "    ax = plt.subplot(2, n, i)\n",
    "    plt.imshow(X_test_flatten[i].reshape(28, 28))\n",
    "    plt.gray()\n",
    "    ax.get_xaxis().set_visible(False)\n",
    "    ax.get_yaxis().set_visible(False)\n",
    "    # 재구성된 데이터\n",
    "    ax = plt.subplot(2, n, i + n)\n",
    "    plt.imshow(decoded_img[i].reshape(28, 28))\n",
    "    plt.gray()\n",
    "    ax.get_xaxis().set_visible(False)\n",
    "    ax.get_yaxis().set_visible(False)\n",
    "plt.show()\n"
   ],
   "metadata": {
    "collapsed": false,
    "pycharm": {
     "name": "#%%\n"
    }
   }
  },
  {
   "cell_type": "markdown",
   "source": [
    "* 1을 제외하고 학습하였음에도 시각적으로 문제없이 잘 복구가 됨. 간단한 모양이기 때문에 다른 클래스로 학습된 특징으로도 표현이 가능한 것 같음"
   ],
   "metadata": {
    "collapsed": false,
    "pycharm": {
     "name": "#%% md\n"
    }
   }
  },
  {
   "cell_type": "code",
   "execution_count": 29,
   "outputs": [
    {
     "name": "stdout",
     "output_type": "stream",
     "text": [
      "                  0\n",
      "count  10000.000000\n",
      "mean       2.458083\n",
      "std        0.641609\n",
      "min        1.029302\n",
      "25%        1.990934\n",
      "50%        2.381879\n",
      "75%        2.844031\n",
      "max        5.860595\n"
     ]
    },
    {
     "data": {
      "text/plain": "<Figure size 432x288 with 1 Axes>",
      "image/png": "[encoded data removed]"
     },
     "metadata": {
      "needs_background": "light"
     },
     "output_type": "display_data"
    },
    {
     "name": "stdout",
     "output_type": "stream",
     "text": [
      "class 0 : 2.5685372981489922\n",
      "class 1 : 1.7693971888084243\n",
      "class 2 : 2.8879059323275738\n",
      "class 3 : 2.5665127247867017\n",
      "class 4 : 2.488540074611633\n",
      "class 5 : 2.6894786864385476\n",
      "class 6 : 2.5023717218251718\n",
      "class 7 : 2.120704883035519\n",
      "class 8 : 2.898592436950065\n",
      "class 9 : 2.219579913334993\n"
     ]
    }
   ],
   "source": [
    "from numpy.linalg import norm\n",
    "import pandas as pd\n",
    "\n",
    "l2_norm = norm(decoded_img-X_test_flatten, axis=1, ord=2)\n",
    "\n",
    "l2_norm_df = pd.DataFrame(l2_norm)\n",
    "print(l2_norm_df.describe())\n",
    "\n",
    "#l2_norm.sort()\n",
    "#plt.plot(l2_norm)\n",
    "#plt.show()\n",
    "\n",
    "l2_norm_1 = l2_norm[y_test==1]\n",
    "#l2_norm_1.sort()\n",
    "plt.plot(l2_norm_1)\n",
    "plt.show()\n",
    "\n",
    "# class 별 mean reconstruction error\n",
    "for i in range(10):\n",
    "    print(f\"class {i} :\", sum(l2_norm[y_test==i])/len(l2_norm[y_test==i]))"
   ],
   "metadata": {
    "collapsed": false,
    "pycharm": {
     "name": "#%%\n"
    }
   }
  },
  {
   "cell_type": "markdown",
   "source": [
    "* novelty class로 설정했던 1의 l2-norm이 일반 클래스에 비해 유의미한 reconstruction error 분포를 보이지 않음\n",
    "* 오히려 다른 class의 reconstruction error 평균값보다 낮은 에러율을 보임"
   ],
   "metadata": {
    "collapsed": false,
    "pycharm": {
     "name": "#%% md\n"
    }
   }
  }
 ],
 "metadata": {
  "kernelspec": {
   "display_name": "Python 3",
   "language": "python",
   "name": "python3"
  },
  "language_info": {
   "codemirror_mode": {
    "name": "ipython",
    "version": 2
   },
   "file_extension": ".py",
   "mimetype": "text/x-python",
   "name": "python",
   "nbconvert_exporter": "python",
   "pygments_lexer": "ipython2",
   "version": "2.7.6"
  }
 },
 "nbformat": 4,
 "nbformat_minor": 0
}